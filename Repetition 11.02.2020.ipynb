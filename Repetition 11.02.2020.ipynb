{
 "cells": [
  {
   "cell_type": "code",
   "execution_count": 9,
   "metadata": {},
   "outputs": [
    {
     "name": "stdout",
     "output_type": "stream",
     "text": "[1, 2, 3, 4, 5, 6, 7, 8, 9, 10]\n[1, 2, 3, 4, 5, 6, 7, 8, 9, 10]\n"
    }
   ],
   "source": [
    "nums = [1,2,3,4,5,6,7,8,9,10]\n",
    "\n",
    "# I want 'n' for each 'n' in nums\n",
    "my_list = []\n",
    "for n in nums:\n",
    "  my_list.append(n)\n",
    "print(my_list)\n",
    "\n",
    "print([n for n in nums])"
   ]
  },
  {
   "cell_type": "code",
   "execution_count": 0,
   "metadata": {},
   "outputs": [],
   "source": [
    "nums = [1,2,3,4,5,6,7,8,9,10]\n",
    "\n",
    "# # I want 'n' for each 'n' in nums\n",
    "# my_list = []\n",
    "# for n in nums:\n",
    "#   my_list.append(n)\n",
    "# print(my_list)\n",
    "\n",
    "# print([n for n in nums])\n",
    "\n",
    "# I want 'n*n' for each 'n' in nums\n",
    "# my_list = []\n",
    "# for n in nums:\n",
    "#   my_list.append(n*n)\n",
    "# print(my_list)\n",
    "\n",
    "# Using a map + lambda\n",
    "# my_list = map(lambda n: n*n, nums)\n",
    "# print(my_list)\n",
    "\n",
    "# I want 'n' for each 'n' in nums if 'n' is even\n",
    "# my_list = []\n",
    "# for n in nums:\n",
    "#   if n%2 == 0:\n",
    "#     my_list.append(n)\n",
    "# print(my_list)\n",
    "\n",
    "# Using a filter + lambda\n",
    "# my_list = filter(lambda n: n%2 == 0, nums)\n",
    "# print(my_list)\n",
    "\n",
    "# I want a (letter, num) pair for each letter in 'abcd' and each number in '0123'\n",
    "# my_list = []\n",
    "# for letter in 'abcd':\n",
    "#   for num in range(4):\n",
    "#     my_list.append((letter,num))\n",
    "# print(my_list)\n",
    "\n",
    "# Dictionary Comprehensions\n",
    "names = ['Bruce', 'Clark', 'Peter', 'Logan', 'Wade']\n",
    "heros = ['Batman', 'Superman', 'Spiderman', 'Wolverine', 'Deadpool']\n",
    "# print zip(names, heros)\n",
    "\n",
    "# I want a dict{'name': 'hero'} for each name,hero in zip(names, heros)\n",
    "my_dict = {}\n",
    "for name, hero in zip(names, heros):\n",
    "    my_dict[name] = hero\n",
    "print (my_dict)\n",
    "\n",
    "\n",
    "\n",
    "# If name not equal to Peter\n",
    "\n",
    "# Set Comprehensions\n",
    "# nums = [1,1,2,1,3,4,3,4,5,5,6,7,8,7,9,9]\n",
    "# my_set = set()\n",
    "# for n in nums:\n",
    "#     my_set.add(n)\n",
    "# print my_set\n",
    "\n",
    "\n",
    "# Generator Expressions\n",
    "# I want to yield 'n*n' for each 'n' in nums\n",
    "nums = [1,2,3,4,5,6,7,8,9,10]\n",
    "\n",
    "# def gen_func(nums):\n",
    "#     for n in nums:\n",
    "#         yield n*n\n",
    "\n",
    "# my_gen = gen_func(nums)\n",
    "\n",
    "# for i in my_gen:\n",
    "#     print i"
   ]
  },
  {
   "cell_type": "code",
   "execution_count": null,
   "metadata": {},
   "outputs": [],
   "source": []
  },
  {
   "cell_type": "code",
   "execution_count": 10,
   "metadata": {},
   "outputs": [
    {
     "name": "stdout",
     "output_type": "stream",
     "text": "Valid\n"
    },
    {
     "ename": "KeyboardInterrupt",
     "evalue": "",
     "output_type": "error",
     "traceback": [
      "\u001b[0;31m---------------------------------------------------------------------------\u001b[0m",
      "\u001b[0;31mKeyboardInterrupt\u001b[0m                         Traceback (most recent call last)",
      "\u001b[0;32m<ipython-input-10-64190befad68>\u001b[0m in \u001b[0;36m<module>\u001b[0;34m\u001b[0m\n\u001b[1;32m     62\u001b[0m \u001b[0;34m\u001b[0m\u001b[0m\n\u001b[1;32m     63\u001b[0m \u001b[0;34m\u001b[0m\u001b[0m\n\u001b[0;32m---> 64\u001b[0;31m \u001b[0mcheck_pass\u001b[0m\u001b[0;34m(\u001b[0m\u001b[0;34m)\u001b[0m\u001b[0;34m\u001b[0m\u001b[0;34m\u001b[0m\u001b[0m\n\u001b[0m",
      "\u001b[0;32m<ipython-input-10-64190befad68>\u001b[0m in \u001b[0;36mcheck_pass\u001b[0;34m(run_code, cont_code)\u001b[0m\n\u001b[1;32m     28\u001b[0m                 \u001b[0;32mif\u001b[0m \u001b[0mcheck\u001b[0m\u001b[0;34m[\u001b[0m\u001b[0;34m\"Personal\"\u001b[0m\u001b[0;34m]\u001b[0m \u001b[0;34m==\u001b[0m \u001b[0minput\u001b[0m\u001b[0;34m(\u001b[0m\u001b[0;34m\"Enter password: \"\u001b[0m\u001b[0;34m)\u001b[0m\u001b[0;34m:\u001b[0m\u001b[0;34m\u001b[0m\u001b[0;34m\u001b[0m\u001b[0m\n\u001b[1;32m     29\u001b[0m                     \u001b[0mprint\u001b[0m\u001b[0;34m(\u001b[0m\u001b[0;34m\"Valid\"\u001b[0m\u001b[0;34m)\u001b[0m\u001b[0;34m\u001b[0m\u001b[0;34m\u001b[0m\u001b[0m\n\u001b[0;32m---> 30\u001b[0;31m                     \u001b[0mcont\u001b[0m\u001b[0;34m(\u001b[0m\u001b[0;34m)\u001b[0m\u001b[0;34m\u001b[0m\u001b[0;34m\u001b[0m\u001b[0m\n\u001b[0m\u001b[1;32m     31\u001b[0m                 \u001b[0;32melse\u001b[0m\u001b[0;34m:\u001b[0m\u001b[0;34m\u001b[0m\u001b[0;34m\u001b[0m\u001b[0m\n\u001b[1;32m     32\u001b[0m                     \u001b[0mprint\u001b[0m\u001b[0;34m(\u001b[0m\u001b[0;34m\"\\nTry one more time. Enter type right.\"\u001b[0m\u001b[0;34m)\u001b[0m\u001b[0;34m\u001b[0m\u001b[0;34m\u001b[0m\u001b[0m\n",
      "\u001b[0;32m<ipython-input-10-64190befad68>\u001b[0m in \u001b[0;36mcont\u001b[0;34m()\u001b[0m\n\u001b[1;32m     13\u001b[0m     \u001b[0;32mwhile\u001b[0m \u001b[0;32mTrue\u001b[0m\u001b[0;34m:\u001b[0m\u001b[0;34m\u001b[0m\u001b[0;34m\u001b[0m\u001b[0m\n\u001b[1;32m     14\u001b[0m         \u001b[0;32mif\u001b[0m \u001b[0mcont\u001b[0m \u001b[0;34m!=\u001b[0m \u001b[0;34m\"yes\"\u001b[0m\u001b[0;34m:\u001b[0m\u001b[0;34m\u001b[0m\u001b[0;34m\u001b[0m\u001b[0m\n\u001b[0;32m---> 15\u001b[0;31m             \u001b[0mcont_code\u001b[0m \u001b[0;34m=\u001b[0m \u001b[0;32mFalse\u001b[0m\u001b[0;34m\u001b[0m\u001b[0;34m\u001b[0m\u001b[0m\n\u001b[0m\u001b[1;32m     16\u001b[0m         \u001b[0;32melse\u001b[0m\u001b[0;34m:\u001b[0m\u001b[0;34m\u001b[0m\u001b[0;34m\u001b[0m\u001b[0m\n\u001b[1;32m     17\u001b[0m             \u001b[0mcheck_pass\u001b[0m\u001b[0;34m(\u001b[0m\u001b[0;34m)\u001b[0m\u001b[0;34m\u001b[0m\u001b[0;34m\u001b[0m\u001b[0m\n",
      "\u001b[0;31mKeyboardInterrupt\u001b[0m: "
     ]
    }
   ],
   "source": [
    "check = {\n",
    "    \"Personal\": \"bigbaw-busguh-5jEqse\",\n",
    "    \"Finance\": \"fimfoj-syqmu0-byKpuw\",\n",
    "    \"Programming\": \"janput-myzqyk-2gUxpe\",\n",
    "    \"Other Sites\": \"camqeg-9zagko-woddoW\",\n",
    "}\n",
    "\n",
    "\"\"\"To break a loop\"\"\"\n",
    "\n",
    "\n",
    "def cont():\n",
    "    cont = input(\"Do you want to continue? [yes/no]\")\n",
    "    while True:\n",
    "        if cont != \"yes\":\n",
    "            cont_code = False\n",
    "        else:\n",
    "            check_pass()\n",
    "\n",
    "\n",
    "\"\"\"ask you enter type of password to check\"\"\"\n",
    "\n",
    "\n",
    "def check_pass(run_code=True, cont_code=True):\n",
    "    while run_code:\n",
    "        type_pass = input(\"Enter what I should check?\")\n",
    "        if type_pass.title() == \"Personal\":\n",
    "            while cont_code:\n",
    "                if check[\"Personal\"] == input(\"Enter password: \"):\n",
    "                    print(\"Valid\")\n",
    "                    cont()\n",
    "                else:\n",
    "                    print(\"\\nTry one more time. Enter type right.\")\n",
    "                    check_pass()\n",
    "        if type_pass.title() == \"Finance\":\n",
    "            while cont_code:\n",
    "                if check[\"Finance\"] == input(\"Enter password: \"):\n",
    "                    print(\"Valid\")\n",
    "                    cont()\n",
    "                else:\n",
    "                    print(\"\\nTry one more time. Enter type right.\")\n",
    "                    check_pass()\n",
    "        if type_pass.title() == \"Programming\":\n",
    "            while cont_code:\n",
    "                if check[\"Programming\"] == input(\"Enter password: \"):\n",
    "                    print(\"Valid\")\n",
    "                    cont()\n",
    "                else:\n",
    "                    print(\"\\nTry one more time. Enter type right.\")\n",
    "                    check_pass()\n",
    "        if type_pass.title() == \"Other\":\n",
    "            while cont_code:\n",
    "                if check[\"Other Sites\"] == input(\"Enter password: \"):\n",
    "                    print(\"Valid\")\n",
    "                    cont()\n",
    "                else:\n",
    "                    print(\"\\nTry one more time. Enter type right.\")\n",
    "                    check_pass()\n",
    "\n",
    "        else:\n",
    "            print(\"Invalid input. Try again.\")\n",
    "            run_code = False\n",
    "\n",
    "\n",
    "check_pass()\n"
   ]
  },
  {
   "cell_type": "code",
   "execution_count": 99,
   "metadata": {},
   "outputs": [
    {
     "data": {
      "text/plain": "42.0"
     },
     "execution_count": 99,
     "metadata": {},
     "output_type": "execute_result"
    }
   ],
   "source": [
    "53//1.25"
   ]
  },
  {
   "cell_type": "code",
   "execution_count": null,
   "metadata": {},
   "outputs": [],
   "source": []
  }
 ],
 "metadata": {
  "kernelspec": {
   "name": "python38064bita3e2b9284fe241009277b40c2dcf841c",
   "display_name": "Python 3.8.0 64-bit"
  }
 },
 "nbformat": 4,
 "nbformat_minor": 2
}