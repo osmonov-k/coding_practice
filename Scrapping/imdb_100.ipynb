{
 "cells": [
  {
   "cell_type": "code",
   "execution_count": 1,
   "metadata": {},
   "outputs": [],
   "source": [
    "from bs4 import BeautifulSoup as bs\n",
    "import pandas as pd\n",
    "import numpy as np\n",
    "from urllib.request import Request, urlopen\n",
    "import requests"
   ]
  },
  {
   "cell_type": "code",
   "execution_count": 2,
   "metadata": {},
   "outputs": [],
   "source": [
    "# getting top-100 imdb movies\n",
    "\n",
    "headers = {'Accept-Language': 'en-US, en; q=0.5'}"
   ]
  },
  {
   "cell_type": "code",
   "execution_count": 3,
   "metadata": {},
   "outputs": [],
   "source": [
    "# referencing link to url variable\n",
    "\n",
    "url = \"https://www.imdb.com/search/title/?groups=top_1000&ref_=adv_prv\"\n",
    "\n",
    "results = requests.get(url, headers=headers)"
   ]
  },
  {
   "cell_type": "code",
   "execution_count": 4,
   "metadata": {},
   "outputs": [],
   "source": [
    "# html.parser - allows Python to read the components of the page rather than treating it as one long string\n",
    "soup = bs(results.content, 'html.parser')"
   ]
  },
  {
   "cell_type": "code",
   "execution_count": null,
   "metadata": {},
   "outputs": [],
   "source": [
    "soup.prettify()"
   ]
  },
  {
   "cell_type": "code",
   "execution_count": 6,
   "metadata": {},
   "outputs": [],
   "source": [
    "# initialize empty lists\n",
    "titles = []\n",
    "years = []\n",
    "time = []\n",
    "imdb_ratings = []\n",
    "metascores = []\n",
    "votes = []\n",
    "us_gross = []"
   ]
  },
  {
   "cell_type": "code",
   "execution_count": 7,
   "metadata": {},
   "outputs": [],
   "source": [
    "# find all items with 'class' -  lister-item mode-advanced\n",
    "\n",
    "movie_div = soup.find_all('div', class_='lister-item mode-advanced')"
   ]
  },
  {
   "cell_type": "code",
   "execution_count": 8,
   "metadata": {},
   "outputs": [],
   "source": [
    "# initiate the for loop\n",
    "for table in movie_div:\n",
    "    \n",
    "    # titles\n",
    "    name = table.h3.a.text\n",
    "    titles.append(name)\n",
    "    # years\n",
    "    year = table.h3.find('span', class_='lister-item-year').text\n",
    "    years.append(year)\n",
    "    # runtime\n",
    "    runtime = table.find('span', class_='runtime').text if table.p.find('span', class_='runtime') else ''\n",
    "    time.append(runtime)\n",
    "    # imdb\n",
    "    imdb = float(table.strong.text)\n",
    "    imdb_ratings.append(imdb)\n",
    "    # metascore\n",
    "    m_score = table.find('span', class_='metascore').text if table.find('span', class_='metascore') else '-'\n",
    "    metascores.append(m_score)\n",
    "    # votes\n",
    "    nv = table.find_all('span', attrs={'name': 'nv'})\n",
    "\n",
    "    vote = nv[0].text\n",
    "    votes.append(vote)\n",
    "    # grosses\n",
    "    grosses = nv[1].text if len(nv) > 1 else '-'\n",
    "    us_gross.append(grosses) "
   ]
  },
  {
   "cell_type": "code",
   "execution_count": 9,
   "metadata": {},
   "outputs": [],
   "source": [
    "movies = pd.DataFrame({\n",
    "'movie': titles,\n",
    "'year': years,\n",
    "'timeMin': time,\n",
    "'imdb': imdb_ratings,\n",
    "'metascore': metascores,\n",
    "'votes': votes,\n",
    "'us_grossMillions': us_gross,\n",
    "})"
   ]
  },
  {
   "cell_type": "markdown",
   "metadata": {},
   "source": [
    "# Data Cleaning"
   ]
  },
  {
   "cell_type": "code",
   "execution_count": 10,
   "metadata": {},
   "outputs": [
    {
     "data": {
      "text/html": [
       "<div>\n",
       "<style scoped>\n",
       "    .dataframe tbody tr th:only-of-type {\n",
       "        vertical-align: middle;\n",
       "    }\n",
       "\n",
       "    .dataframe tbody tr th {\n",
       "        vertical-align: top;\n",
       "    }\n",
       "\n",
       "    .dataframe thead th {\n",
       "        text-align: right;\n",
       "    }\n",
       "</style>\n",
       "<table border=\"1\" class=\"dataframe\">\n",
       "  <thead>\n",
       "    <tr style=\"text-align: right;\">\n",
       "      <th></th>\n",
       "      <th>movie</th>\n",
       "      <th>year</th>\n",
       "      <th>timeMin</th>\n",
       "      <th>imdb</th>\n",
       "      <th>metascore</th>\n",
       "      <th>votes</th>\n",
       "      <th>us_grossMillions</th>\n",
       "    </tr>\n",
       "  </thead>\n",
       "  <tbody>\n",
       "    <tr>\n",
       "      <th>0</th>\n",
       "      <td>The Gentlemen</td>\n",
       "      <td>(2019)</td>\n",
       "      <td>113 min</td>\n",
       "      <td>8.0</td>\n",
       "      <td>51</td>\n",
       "      <td>79,312</td>\n",
       "      <td>-</td>\n",
       "    </tr>\n",
       "    <tr>\n",
       "      <th>1</th>\n",
       "      <td>Knives Out</td>\n",
       "      <td>(2019)</td>\n",
       "      <td>131 min</td>\n",
       "      <td>8.0</td>\n",
       "      <td>82</td>\n",
       "      <td>252,859</td>\n",
       "      <td>$165.36M</td>\n",
       "    </tr>\n",
       "    <tr>\n",
       "      <th>2</th>\n",
       "      <td>1917</td>\n",
       "      <td>(2019)</td>\n",
       "      <td>119 min</td>\n",
       "      <td>8.4</td>\n",
       "      <td>78</td>\n",
       "      <td>259,363</td>\n",
       "      <td>$159.18M</td>\n",
       "    </tr>\n",
       "    <tr>\n",
       "      <th>3</th>\n",
       "      <td>Parasite</td>\n",
       "      <td>(2019)</td>\n",
       "      <td>132 min</td>\n",
       "      <td>8.6</td>\n",
       "      <td>96</td>\n",
       "      <td>343,830</td>\n",
       "      <td>$53.37M</td>\n",
       "    </tr>\n",
       "    <tr>\n",
       "      <th>4</th>\n",
       "      <td>Once Upon a Time... in Hollywood</td>\n",
       "      <td>(2019)</td>\n",
       "      <td>161 min</td>\n",
       "      <td>7.7</td>\n",
       "      <td>83</td>\n",
       "      <td>424,490</td>\n",
       "      <td>$142.50M</td>\n",
       "    </tr>\n",
       "  </tbody>\n",
       "</table>\n",
       "</div>"
      ],
      "text/plain": [
       "                              movie    year  timeMin  imdb   metascore  \\\n",
       "0                     The Gentlemen  (2019)  113 min   8.0  51           \n",
       "1                        Knives Out  (2019)  131 min   8.0  82           \n",
       "2                              1917  (2019)  119 min   8.4  78           \n",
       "3                          Parasite  (2019)  132 min   8.6  96           \n",
       "4  Once Upon a Time... in Hollywood  (2019)  161 min   7.7  83           \n",
       "\n",
       "     votes us_grossMillions  \n",
       "0   79,312                -  \n",
       "1  252,859         $165.36M  \n",
       "2  259,363         $159.18M  \n",
       "3  343,830          $53.37M  \n",
       "4  424,490         $142.50M  "
      ]
     },
     "execution_count": 10,
     "metadata": {},
     "output_type": "execute_result"
    }
   ],
   "source": [
    "movies.head()"
   ]
  },
  {
   "cell_type": "code",
   "execution_count": 11,
   "metadata": {},
   "outputs": [],
   "source": [
    "# removing parenthesis in year column\n",
    "movies.year = movies.year.str.extract('(\\d+)').astype(int)"
   ]
  },
  {
   "cell_type": "code",
   "execution_count": 12,
   "metadata": {},
   "outputs": [],
   "source": [
    "# removing chars in time column\n",
    "movies['timeMin'] = movies['timeMin'].str.extract('(\\d+)').astype(int)"
   ]
  },
  {
   "cell_type": "code",
   "execution_count": 13,
   "metadata": {},
   "outputs": [],
   "source": [
    "movies.votes = movies.votes.str.replace(',', '').astype(int)"
   ]
  },
  {
   "cell_type": "code",
   "execution_count": 14,
   "metadata": {},
   "outputs": [],
   "source": [
    "movies['us_grossMillions'] = movies['us_grossMillions'].map(lambda x: x.lstrip('$').rstrip('M'))\n"
   ]
  },
  {
   "cell_type": "code",
   "execution_count": 16,
   "metadata": {},
   "outputs": [],
   "source": [
    "movies['us_grossMillions'] = pd.to_numeric(movies['us_grossMillions'], errors='coerce')"
   ]
  },
  {
   "cell_type": "code",
   "execution_count": 17,
   "metadata": {},
   "outputs": [],
   "source": [
    "movies.to_csv('/users/lyanalexandr/movies.csv')"
   ]
  }
 ],
 "metadata": {
  "kernelspec": {
   "display_name": "Python 3.8.0 64-bit",
   "language": "python",
   "name": "python38064bita3e2b9284fe241009277b40c2dcf841c"
  },
  "language_info": {
   "codemirror_mode": {
    "name": "ipython",
    "version": 3
   },
   "file_extension": ".py",
   "mimetype": "text/x-python",
   "name": "python",
   "nbconvert_exporter": "python",
   "pygments_lexer": "ipython3",
   "version": "3.8.0"
  }
 },
 "nbformat": 4,
 "nbformat_minor": 4
}
