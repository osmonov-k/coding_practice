{
 "cells": [
  {
   "cell_type": "markdown",
   "metadata": {},
   "source": [
    "### Webscrapping"
   ]
  },
  {
   "cell_type": "code",
   "execution_count": 4,
   "metadata": {},
   "outputs": [],
   "source": [
    "from bs4 import BeautifulSoup as bs\n",
    "import pandas as pd\n",
    "import requests\n",
    "from urllib.request import Request, urlopen"
   ]
  },
  {
   "cell_type": "code",
   "execution_count": 33,
   "metadata": {},
   "outputs": [],
   "source": [
    "url = 'https://www.espn.com/nba/stats/player'"
   ]
  },
  {
   "cell_type": "code",
   "execution_count": 6,
   "metadata": {},
   "outputs": [],
   "source": [
    "headers = {'User-Agent': 'Mozilla/5.0'}"
   ]
  },
  {
   "cell_type": "code",
   "execution_count": 8,
   "metadata": {},
   "outputs": [
    {
     "data": {
      "text/plain": [
       "'http://www.whoishostingthis.com/tools/user-agent'"
      ]
     },
     "execution_count": 8,
     "metadata": {},
     "output_type": "execute_result"
    }
   ],
   "source": [
    "# to figure out your user agent\n",
    "'http://www.whoishostingthis.com/tools/user-agent'"
   ]
  },
  {
   "cell_type": "code",
   "execution_count": 34,
   "metadata": {},
   "outputs": [],
   "source": [
    "response = requests.get(url)"
   ]
  },
  {
   "cell_type": "code",
   "execution_count": 53,
   "metadata": {},
   "outputs": [],
   "source": [
    "soup = bs(response.content, 'html.parser')"
   ]
  },
  {
   "cell_type": "code",
   "execution_count": 338,
   "metadata": {},
   "outputs": [],
   "source": [
    "stat_tables = soup.find_all('table', class_ = 'Table Table--align-right')"
   ]
  },
  {
   "cell_type": "code",
   "execution_count": 464,
   "metadata": {},
   "outputs": [],
   "source": [
    "# Creating a list of columns names\n",
    "columns_name = []\n",
    "for column in stat_tables[0].find_all('tr')[0]:\n",
    "    columns_name.append(column.text)"
   ]
  },
  {
   "cell_type": "code",
   "execution_count": null,
   "metadata": {},
   "outputs": [],
   "source": [
    "# Description of columns\n",
    "discr_cols = []\n",
    "for title_name in stat_tables[0].find_all('span'):\n",
    "    discr_cols.append(title_name['title'])\n",
    "\n",
    "df_dscr = pd.DataFrame({'Abbreviation':columns_name, 'Description': discr_cols}).set_index('Abbreviation')\n",
    "df_dscr"
   ]
  },
  {
   "cell_type": "code",
   "execution_count": 369,
   "metadata": {},
   "outputs": [],
   "source": [
    "# create table\n",
    "POS = []\n",
    "GP = []\n",
    "MIN = []\n",
    "n = 0\n",
    "for table in stat_tables:\n",
    "    # Step 1. Take first table\n",
    "    rows = table.find_all('tr')\n",
    "    # Step 2. Take each row in table\n",
    "    for row in rows:\n",
    "        # Step 3. Take data of each rows\n",
    "        cells = row.find_all('td')\n",
    "        # Step 4. Except error, if cell of row is empty\n",
    "        try:\n",
    "            POS.append(cells[0].text)\n",
    "            GP.append(cells[1].text)\n",
    "            MIN.append(cells[2].text)\n",
    "            \n",
    "        except IndexError:\n",
    "            # Count errors\n",
    "            n += 1 "
   ]
  },
  {
   "cell_type": "code",
   "execution_count": 413,
   "metadata": {},
   "outputs": [],
   "source": [
    "# Column with names of Basketball players\n",
    "column_player_name = []\n",
    "table_player_name = soup.find_all('table')[0]\n",
    "\n",
    "for table in table_player_name:\n",
    "    rows = table.find_all('tr')\n",
    "    for row in rows:\n",
    "        cells = row.find_all('td')\n",
    "        # if condition check cell emptiness (if not pass)\n",
    "        if len(cells) > 1:\n",
    "            column_player_name.append(cells[1].text[:-3])"
   ]
  },
  {
   "cell_type": "code",
   "execution_count": 416,
   "metadata": {},
   "outputs": [],
   "source": [
    "# Creating DataFrame\n",
    "df = pd.DataFrame({\"Player_name\" : column_player_name, 'Position': POS, 'GP': GP, 'MIN': MIN})"
   ]
  },
  {
   "cell_type": "code",
   "execution_count": null,
   "metadata": {},
   "outputs": [],
   "source": [
    "df"
   ]
  },
  {
   "cell_type": "code",
   "execution_count": 115,
   "metadata": {},
   "outputs": [],
   "source": [
    "with open('basket_stats.txt', 'w') as r:\n",
    "    for row in stat_table[0].find_all('tr'):\n",
    "        for cells in row.find_all('td'):\n",
    "            r.write(cells.text.ljust(10))\n",
    "        r.write('\\n')"
   ]
  }
 ],
 "metadata": {
  "kernelspec": {
   "display_name": "Python 3.8.0 64-bit",
   "language": "python",
   "name": "python38064bita3e2b9284fe241009277b40c2dcf841c"
  },
  "language_info": {
   "codemirror_mode": {
    "name": "ipython",
    "version": 3
   },
   "file_extension": ".py",
   "mimetype": "text/x-python",
   "name": "python",
   "nbconvert_exporter": "python",
   "pygments_lexer": "ipython3",
   "version": "3.8.0"
  }
 },
 "nbformat": 4,
 "nbformat_minor": 4
}
