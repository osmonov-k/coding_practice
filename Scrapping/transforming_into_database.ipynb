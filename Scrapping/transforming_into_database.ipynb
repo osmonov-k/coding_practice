{
 "cells": [
  {
   "cell_type": "code",
   "execution_count": 9,
   "metadata": {},
   "outputs": [],
   "source": [
    "# importing libraries\n",
    "\n",
    "import pandas as pd\n",
    "import numpy as np\n",
    "from bs4 import BeautifulSoup\n",
    "import os\n",
    "import requests"
   ]
  },
  {
   "cell_type": "code",
   "execution_count": 13,
   "metadata": {},
   "outputs": [],
   "source": [
    "BASE_URL = 'https://www.palottery.state.pa.us/Payouts.aspx?id={}'\n",
    "\n",
    "resp = requests.get(BASE_URL.format(72650))"
   ]
  },
  {
   "cell_type": "code",
   "execution_count": 14,
   "metadata": {},
   "outputs": [],
   "source": [
    "soup = BeautifulSoup(resp.text, 'lxml')"
   ]
  },
  {
   "cell_type": "code",
   "execution_count": 17,
   "metadata": {},
   "outputs": [],
   "source": [
    "game_content = soup.find('div', id='page-content')"
   ]
  },
  {
   "cell_type": "code",
   "execution_count": 33,
   "metadata": {},
   "outputs": [
    {
     "data": {
      "text/plain": [
       "[<h2>PA Lottery Powerball Evening Winning Lottery Numbers!</h2>,\n",
       " <h2>07/17/19<br/>\n",
       " \t  Winning Numbers:\n",
       " \t  19  43  47  60  68<br/>Powerball:\n",
       " \t  10  Power Play: 02</h2>,\n",
       " <h2>How to Find More PA Lottery results</h2>]"
      ]
     },
     "execution_count": 33,
     "metadata": {},
     "output_type": "execute_result"
    }
   ],
   "source": [
    "h2_data = game_content.find_all('h2')\n",
    "h2_data"
   ]
  },
  {
   "cell_type": "code",
   "execution_count": 44,
   "metadata": {},
   "outputs": [],
   "source": [
    "game_data = h2_data[1]\n",
    "game_data = game_data.text \\\n",
    "    .replace('  Winning Numbers:', '|') \\\n",
    "    .replace('Powerball:', '|') \\\n",
    "    .replace('Power Play: ', '|') \\\n",
    "    .split('|')"
   ]
  },
  {
   "cell_type": "code",
   "execution_count": 47,
   "metadata": {},
   "outputs": [
    {
     "data": {
      "text/plain": [
       "['07/17/19', '19\\xa0\\xa043\\xa0\\xa047\\xa0\\xa060\\xa0\\xa068', '10', '02']"
      ]
     },
     "execution_count": 47,
     "metadata": {},
     "output_type": "execute_result"
    }
   ],
   "source": [
    "game_data\n"
   ]
  },
  {
   "cell_type": "code",
   "execution_count": 46,
   "metadata": {},
   "outputs": [],
   "source": [
    "game_data = [item.strip().replace('  ', ',') for item in game_data]"
   ]
  },
  {
   "cell_type": "code",
   "execution_count": null,
   "metadata": {},
   "outputs": [],
   "source": []
  }
 ],
 "metadata": {
  "kernelspec": {
   "display_name": "Python 3.8.0 64-bit",
   "language": "python",
   "name": "python38064bita3e2b9284fe241009277b40c2dcf841c"
  },
  "language_info": {
   "codemirror_mode": {
    "name": "ipython",
    "version": 3
   },
   "file_extension": ".py",
   "mimetype": "text/x-python",
   "name": "python",
   "nbconvert_exporter": "python",
   "pygments_lexer": "ipython3",
   "version": "3.8.0"
  }
 },
 "nbformat": 4,
 "nbformat_minor": 4
}
