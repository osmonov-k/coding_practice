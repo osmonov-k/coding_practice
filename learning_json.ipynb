{
 "cells": [
  {
   "cell_type": "code",
   "execution_count": 48,
   "metadata": {},
   "outputs": [],
   "source": [
    "import urllib, json\n",
    "import pandas\n",
    "import time\n",
    "import requests\n",
    "from tqdm import tqdm"
   ]
  },
  {
   "cell_type": "code",
   "execution_count": 56,
   "metadata": {},
   "outputs": [
    {
     "name": "stderr",
     "output_type": "stream",
     "text": [
      "0%|          | 1/4927 [00:01<2:05:13,  1.53s/it]Got a2ps in 0.756779 seconds\n",
      "  0%|          | 2/4927 [00:02<1:59:35,  1.46s/it]Got a52dec in 0.644342 seconds\n",
      "  0%|          | 3/4927 [00:04<2:11:38,  1.60s/it]Got aacgain in 0.968834 seconds\n",
      "  0%|          | 4/4927 [00:05<2:01:19,  1.48s/it]Got aalib in 0.584765 seconds\n",
      "  0%|          | 5/4927 [00:07<2:04:41,  1.52s/it]Got aamath in 0.804198 seconds\n",
      "  0%|          | 6/4927 [00:08<1:55:38,  1.41s/it]Got aardvark_shell_utils in 0.571449 seconds\n",
      "  0%|          | 7/4927 [00:09<1:50:26,  1.35s/it]Got abcde in 0.5949 seconds\n",
      "  0%|          | 8/4927 [00:11<1:49:09,  1.33s/it]Got abcl in 0.643752 seconds\n",
      "  0%|          | 9/4927 [00:13<2:00:22,  1.47s/it]Got abcm2ps in 0.888404 seconds\n",
      "  0%|          | 10/4927 [00:14<1:54:52,  1.40s/it]Got abcmidi in 0.616265 seconds\n",
      "  0%|          | 11/4927 [00:15<1:56:30,  1.42s/it]Got abduco in 0.73075 seconds\n",
      "  0%|          | 12/4927 [00:16<1:49:45,  1.34s/it]Got abnfgen in 0.5685 seconds\n",
      "  0%|          | 13/4927 [00:18<1:48:25,  1.32s/it]Got abook in 0.637477 seconds\n",
      "  0%|          | 14/4927 [00:19<1:45:54,  1.29s/it]Got abseil in 0.605144 seconds\n",
      "  0%|          | 15/4927 [00:20<1:43:40,  1.27s/it]Got abuse in 0.596479 seconds\n"
     ]
    }
   ],
   "source": [
    "file = requests.get('https://formulae.brew.sh/api/formula.json')\n",
    "packages_json = file.json()\n",
    "\n",
    "results = []\n",
    "\n",
    "t1 = time.perf_counter()\n",
    "\n",
    "for package in tqdm(packages_json):\n",
    "    package_name = package['name']\n",
    "    package_desc = package['desc']\n",
    "\n",
    "    package_url = f'https://formulae.brew.sh/api/formula/{package_name}.json'\n",
    "\n",
    "    r = requests.get(package_url)\n",
    "    package_json = r.json()\n",
    "\n",
    "    installs_30 = package_json['analytics']['install_on_request']['30d'][package_name]\n",
    "    installs_90 = package_json['analytics']['install_on_request']['90d'][package_name]\n",
    "    installs_365 = package_json['analytics']['install_on_request']['365d'][package_name]\n",
    "\n",
    "    data = {\n",
    "        'name': package_name,\n",
    "        'desc': package_desc,\n",
    "        'analytics': {\n",
    "            '30d': installs_30,\n",
    "            '90d': installs_90,\n",
    "            '365d': installs_365,\n",
    "        }\n",
    "    }\n",
    "\n",
    "    results.append(data)\n",
    "\n",
    "    time.sleep(r.elapsed.total_seconds())\n",
    "\n",
    "    print(f'Got {package_name} in {r.elapsed.total_seconds()} seconds')\n",
    "\n",
    "    # break\n",
    "\n",
    "t2 = time.perf_counter()\n",
    "print(f'Finished in {t2-t1} secs')\n",
    "\n",
    "with open('package_info.json', 'w') as f:\n",
    "    json.dump(results, f, indent=2)"
   ]
  },
  {
   "cell_type": "code",
   "execution_count": 32,
   "metadata": {},
   "outputs": [],
   "source": [
    "installs_30 = package_json['analytics']['install_on_request']['30d'][package_name]\n",
    "installs_90 = package_json['analytics']['install_on_request']['90d'][package_name]\n",
    "installs_365 = package_json['analytics']['install_on_request']['365d'][package_name]"
   ]
  },
  {
   "cell_type": "code",
   "execution_count": 33,
   "metadata": {},
   "outputs": [
    {
     "name": "stdout",
     "output_type": "stream",
     "text": [
      "a2ps Any-to-PostScript filter 152 318 1146\n"
     ]
    }
   ],
   "source": [
    "print(package_name, package_desc, installs_30, installs_90, installs_365)"
   ]
  },
  {
   "cell_type": "code",
   "execution_count": 55,
   "metadata": {},
   "outputs": [
    {
     "name": "stdout",
     "output_type": "stream",
     "text": [
      "[{'name': 'a2ps', 'desc': 'Any-to-PostScript filter', 'analytics': {'30d': 152, '90d': 318, '365d': 1146}}]\n"
     ]
    }
   ],
   "source": [
    "print(results)"
   ]
  },
  {
   "cell_type": "code",
   "execution_count": null,
   "metadata": {},
   "outputs": [],
   "source": [
    "\n"
   ]
  }
 ],
 "metadata": {
  "kernelspec": {
   "display_name": "Python 3.8.0 64-bit",
   "language": "python",
   "name": "python38064bita3e2b9284fe241009277b40c2dcf841c"
  },
  "language_info": {
   "codemirror_mode": {
    "name": "ipython",
    "version": 3
   },
   "file_extension": ".py",
   "mimetype": "text/x-python",
   "name": "python",
   "nbconvert_exporter": "python",
   "pygments_lexer": "ipython3",
   "version": "3.8.0"
  }
 },
 "nbformat": 4,
 "nbformat_minor": 4
}
