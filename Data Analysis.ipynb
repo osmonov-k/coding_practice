{
 "cells": [
  {
   "cell_type": "code",
   "execution_count": 18,
   "metadata": {},
   "outputs": [
    {
     "name": "stdout",
     "output_type": "stream",
     "text": [
      "Inventory(station='US009052008', latitude=43.7333, longitude=-96.6333, element='TMAX', start=2008, end=2016)\n",
      "Inventory(station='US009052008', latitude=43.7333, longitude=-96.6333, element='TMIN', start=2008, end=2016)\n",
      "Inventory(station='US009052008', latitude=43.7333, longitude=-96.6333, element='PRCP', start=2008, end=2016)\n",
      "Inventory(station='US009052008', latitude=43.7333, longitude=-96.6333, element='SNWD', start=2009, end=2016)\n",
      "Inventory(station='US10RMHS145', latitude=40.5268, longitude=-105.1113, element='PRCP', start=2004, end=2004)\n"
     ]
    },
    {
     "data": {
      "text/plain": [
       "[Inventory(station='USC00010252', latitude=31.3072, longitude=-86.5225, element='TMAX', start=1912, end=2018),\n",
       " Inventory(station='USC00010252', latitude=31.3072, longitude=-86.5225, element='TMIN', start=1912, end=2018),\n",
       " Inventory(station='USC00010583', latitude=30.8839, longitude=-87.7853, element='TMAX', start=1915, end=2020),\n",
       " Inventory(station='USC00010583', latitude=30.8839, longitude=-87.7853, element='TMIN', start=1915, end=2020),\n",
       " Inventory(station='USC00011694', latitude=32.8161, longitude=-86.6042, element='TMAX', start=1893, end=2019)]"
      ]
     },
     "execution_count": 18,
     "metadata": {},
     "output_type": "execute_result"
    }
   ],
   "source": [
    "import requests\n",
    "from collections import namedtuple\n",
    "\n",
    "# r = requests.get('https://www1.ncdc.noaa.gov/pub/data/ghcn/daily/readme.txt')\n",
    "# readme = r.text\n",
    "\n",
    "r = requests.get('https://www1.ncdc.noaa.gov/pub/data/ghcn/daily/ghcnd-inventory.txt')\n",
    "inventory_txt = r.text\n",
    "# r = requests.get('https://www1.ncdc.noaa.gov/pub/data/ghcn/daily/ghcnd-stations.txt') \n",
    "# stations_txt = r.text\n",
    "# # with open(\"inventory.txt\", \"w\") as inventory_file: \n",
    "# #     inventory_file.write(inventory_txt)\n",
    "# with open(\"stations.txt\", \"w\") as stations_file: \n",
    "#                  stations_file.write(stations_txt)\n",
    "\n",
    "# print(inventory_txt[:137])\n",
    "\n",
    "Inventory = namedtuple(\"Inventory\", ['station', 'latitude', 'longitude',\n",
    "'element', 'start', 'end'])\n",
    "\n",
    "# Разбор данных периодов наблюдений и преобразование значений в числа\n",
    "inventory = [Inventory(x[0:11], float(x[12:20]), float(x[21:30]), x[31:35], int(x[36:40]), int(x[41:45]))\n",
    "for x in inventory_txt.split(\"\\n\") if x.startswith(\"US\")]\n",
    "for line in inventory[:5]:\n",
    "    print(line)\n",
    "    \n",
    "inventory_temps = [x for x in inventory if x.element in ['TMIN', 'TMAX']\n",
    "and x.end >= 2015 and x.start < 1920] \n",
    "inventory_temps[:5]"
   ]
  },
  {
   "cell_type": "code",
   "execution_count": null,
   "metadata": {},
   "outputs": [],
   "source": []
  }
 ],
 "metadata": {
  "kernelspec": {
   "display_name": "Python 3.8.0 64-bit",
   "language": "python",
   "name": "python38064bita3e2b9284fe241009277b40c2dcf841c"
  },
  "language_info": {
   "codemirror_mode": {
    "name": "ipython",
    "version": 3
   },
   "file_extension": ".py",
   "mimetype": "text/x-python",
   "name": "python",
   "nbconvert_exporter": "python",
   "pygments_lexer": "ipython3",
   "version": "3.8.0"
  }
 },
 "nbformat": 4,
 "nbformat_minor": 2
}
