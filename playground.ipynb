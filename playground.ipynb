{
 "cells": [
  {
   "cell_type": "code",
   "execution_count": 33,
   "metadata": {},
   "outputs": [
    {
     "name": "stdout",
     "output_type": "stream",
     "text": "23\n"
    }
   ],
   "source": [
    "friend_info={\n",
    "    \"first_name\":\"Alex\",\n",
    "    \"last_name\":\"Lyan\",\n",
    "    \"age\":\"23\",\n",
    "    \"city\":\"Mexico\",\n",
    "    }\n",
    "print(friend_info['age'])"
   ]
  },
  {
   "cell_type": "code",
   "execution_count": 34,
   "metadata": {},
   "outputs": [
    {
     "name": "stdout",
     "output_type": "stream",
     "text": "Jen's favorite language is Python.\nSarah's favorite language is C.\nEdward's favorite language is Ruby.\nPhil's favorite language is Python.\n"
    }
   ],
   "source": [
    "favorite_languages = { 'jen': 'python',\n",
    "'sarah': 'c', 'edward': 'ruby', 'phil': 'python', }\n",
    "\n",
    "for name, language in favorite_languages.items():\n",
    "    print(f\"{name.title()}'s favorite language is {language.title()}.\")"
   ]
  },
  {
   "cell_type": "code",
   "execution_count": 35,
   "metadata": {},
   "outputs": [
    {
     "name": "stdout",
     "output_type": "stream",
     "text": "\nNile runs through Egypt\n\nDnepr runs through Russia\n\nAmazon runs through Brazil\nRiver: Nile\nRiver: Dnepr\nRiver: Amazon\nCountry: Egypt\nCountry: Russia\nCountry: Brazil\n"
    }
   ],
   "source": [
    "lst = {\n",
    "    \"nile\":\"egypt\",\n",
    "    \"dnepr\":\"russia\",\n",
    "    \"amazon\":\"brazil\",\n",
    "    }\n",
    "for river,country in lst.items():\n",
    "    print(f\"\\n{river.title()} runs through {country.title()}\")\n",
    "for river in lst.keys():\n",
    "        print(f\"River: {river.title()}\")\n",
    "for country in lst.values():\n",
    "    print(f\"Country: {country.title()}\")"
   ]
  },
  {
   "cell_type": "code",
   "execution_count": 36,
   "metadata": {},
   "outputs": [
    {
     "name": "stdout",
     "output_type": "stream",
     "text": "\nHello,\n"
    }
   ],
   "source": [
    "prompt=\"What is your name?\"\n",
    "prompt+=\"\\nSorry, Enter your name:\"\n",
    "\n",
    "name=input(prompt)\n",
    "print(f\"\\nHello,{name}\")"
   ]
  },
  {
   "cell_type": "code",
   "execution_count": 37,
   "metadata": {},
   "outputs": [
    {
     "name": "stdout",
     "output_type": "stream",
     "text": "Let me see if I can fine you a \n"
    }
   ],
   "source": [
    "car=input(\"What kind of car would you like?\")\n",
    "\n",
    "print(f\"Let me see if I can fine you a {car}\")"
   ]
  },
  {
   "cell_type": "code",
   "execution_count": 38,
   "metadata": {},
   "outputs": [
    {
     "ename": "ValueError",
     "evalue": "invalid literal for int() with base 10: ''",
     "output_type": "error",
     "traceback": [
      "\u001b[0;31m---------------------------------------------------------------------------\u001b[0m",
      "\u001b[0;31mValueError\u001b[0m                                Traceback (most recent call last)",
      "\u001b[0;32m<ipython-input-38-1ccef5577f76>\u001b[0m in \u001b[0;36m<module>\u001b[0;34m\u001b[0m\n\u001b[0;32m----> 1\u001b[0;31m \u001b[0mtable\u001b[0m\u001b[0;34m=\u001b[0m\u001b[0mint\u001b[0m\u001b[0;34m(\u001b[0m\u001b[0minput\u001b[0m\u001b[0;34m(\u001b[0m\u001b[0;34m\"How many people are in their dinner group\"\u001b[0m\u001b[0;34m)\u001b[0m\u001b[0;34m)\u001b[0m\u001b[0;34m\u001b[0m\u001b[0;34m\u001b[0m\u001b[0m\n\u001b[0m\u001b[1;32m      2\u001b[0m \u001b[0;34m\u001b[0m\u001b[0m\n\u001b[1;32m      3\u001b[0m \u001b[0;32mif\u001b[0m \u001b[0mtable\u001b[0m\u001b[0;34m>\u001b[0m\u001b[0;36m8\u001b[0m\u001b[0;34m:\u001b[0m\u001b[0;34m\u001b[0m\u001b[0;34m\u001b[0m\u001b[0m\n\u001b[1;32m      4\u001b[0m     \u001b[0mprint\u001b[0m\u001b[0;34m(\u001b[0m\u001b[0;34m\"they will have to wait for a table\"\u001b[0m\u001b[0;34m)\u001b[0m\u001b[0;34m\u001b[0m\u001b[0;34m\u001b[0m\u001b[0m\n\u001b[1;32m      5\u001b[0m \u001b[0;32melse\u001b[0m\u001b[0;34m:\u001b[0m\u001b[0;34m\u001b[0m\u001b[0;34m\u001b[0m\u001b[0m\n",
      "\u001b[0;31mValueError\u001b[0m: invalid literal for int() with base 10: ''"
     ]
    }
   ],
   "source": [
    "table=int(input(\"How many people are in their dinner group\"))\n",
    "\n",
    "if table>8:\n",
    "    print(\"they will have to wait for a table\")\n",
    "else:\n",
    "    print(\"Your table is ready\")\n"
   ]
  },
  {
   "cell_type": "code",
   "execution_count": 0,
   "metadata": {},
   "outputs": [],
   "source": [
    "num=int(input(\"Enter your number:\"))\n",
    "if num%10==0:\n",
    "    print(\"the number is multiple of 10\")\n",
    "else:\n",
    "    print(\"No\")"
   ]
  },
  {
   "cell_type": "code",
   "execution_count": 0,
   "metadata": {},
   "outputs": [],
   "source": [
    "prompt = \"\\nPlease enter the name of a city you have visited:\" \n",
    "prompt += \"\\n(Enter 'quit' when you are finished.) \"\n",
    "\n",
    "while True:\n",
    "    city = input(prompt)\n",
    "    if city == 'quit': \n",
    "        break\n",
    "    else:\n",
    "        print(f\"I'd love to go to {city.title()}!\")"
   ]
  },
  {
   "cell_type": "code",
   "execution_count": 0,
   "metadata": {},
   "outputs": [],
   "source": [
    "current_number = 5\n",
    "while current_number < 10:\n",
    "    current_number += 1\n",
    "    if current_number % 2 == 0: \n",
    "        continue\n",
    "    print(current_number)"
   ]
  },
  {
   "cell_type": "code",
   "execution_count": 0,
   "metadata": {},
   "outputs": [],
   "source": [
    "top=\"\"\n",
    "while True:\n",
    "    top=input(\"Your topping:\") \n",
    "    if top==\"quit\":\n",
    "        break\n",
    "    else:\n",
    "        print(f\"You will add that {top} to their pizza\")\n",
    "\n"
   ]
  },
  {
   "cell_type": "code",
   "execution_count": 56,
   "metadata": {},
   "outputs": [],
   "source": [
    "while True:\n",
    "    age=input(\"Enter your age:\")\n",
    "    if age==\"quit\" or age!=int:\n",
    "        break\n",
    "    if int(age)<3:\n",
    "        print(\"Ticket is free\")\n",
    "    elif int(age)<12:\n",
    "        print(\"$10\")\n",
    "    else:\n",
    "        print(\"$15\")\n",
    "    \n"
   ]
  },
  {
   "cell_type": "code",
   "execution_count": 86,
   "metadata": {},
   "outputs": [
    {
     "name": "stdout",
     "output_type": "stream",
     "text": "I made your ff sandwich\nI made your fff sandwich\nI made your nnnn sandwich\nYour orders: ('order', 'nnnn')\n"
    }
   ],
   "source": [
    "sandwich_orders={}\n",
    "sand_ord=True\n",
    "\n",
    "while sand_ord:\n",
    "    x=input(\"What sandwich would you like:\")\n",
    "    sandwich_orders[\"order\"]=x\n",
    "    print(f\"I made your {x} sandwich\")\n",
    "    \n",
    "    cont=input(\"Do u want another sandwich? [Yes/No]\")\n",
    " #   cont=cont.title()\n",
    "    if cont==\"no\":\n",
    "        sand_ord=False\n",
    "for order in sandwich_orders.items():\n",
    "    print(f\"Your orders: {order}\")\n",
    "\n",
    "\n",
    "\n",
    "\n",
    "\n",
    "\n",
    "\n"
   ]
  },
  {
   "cell_type": "code",
   "execution_count": 97,
   "metadata": {},
   "outputs": [
    {
     "name": "stdout",
     "output_type": "stream",
     "text": "I'm working on grilled cheese sandwich\nI'm working on veggie sandwich\n\n\nI made grilled cheese was made\nI made veggie was made\n"
    }
   ],
   "source": [
    "sandwich_order=['veggie', 'grilled cheese','bacon']\n",
    "finished_sandwich=[]\n",
    "\n",
    "while sandwich_order:\n",
    "    x=sandwich_order.pop()\n",
    "    print(f\"I'm working on {x} sandwich\")\n",
    "    finished_sandwich.append(x)\n",
    "print(\"\\n\")\n",
    "for item in finished_sandwich:\n",
    "    print(f\"I made {item} was made\")\n"
   ]
  },
  {
   "cell_type": "code",
   "execution_count": 101,
   "metadata": {},
   "outputs": [],
   "source": [
    "class Dog:\n",
    "    def __init__(self,name,age):\n",
    "        self.name=name\n",
    "        self.age=age\n",
    "    \n",
    "    def sit(self):\n",
    "        print(f\"My dog, {self.name}, is sitting\")\n",
    "    def roll_over(self):\n",
    "        print(f\"My dog, {self.name}, is rolling over\")\n",
    "\n"
   ]
  },
  {
   "cell_type": "code",
   "execution_count": 102,
   "metadata": {},
   "outputs": [
    {
     "name": "stdout",
     "output_type": "stream",
     "text": "My dog's name is Willie.\nMy dog is 6 years old.\n"
    }
   ],
   "source": [
    "my_dog = Dog('Willie', 6)\n",
    "print(f\"My dog's name is {my_dog.name}.\")\n",
    "print(f\"My dog is {my_dog.age} years old.\")"
   ]
  },
  {
   "cell_type": "code",
   "execution_count": 142,
   "metadata": {},
   "outputs": [
    {
     "name": "stdout",
     "output_type": "stream",
     "text": "Wow Restaurant serves ice_cream\n\nWe have the following flavors available:\n-Vanilla\n-Chocolate\n-Black Cherry\n"
    }
   ],
   "source": [
    "class restaurant:\n",
    "    def __init__(self,restaurant_name,cuisine_type):\n",
    "            self.restaurant_name=restaurant_name.title()\n",
    "            self.cuisine_type=cuisine_type\n",
    "            self.number_served = 0  \n",
    "    def describe_restaurant(self):\n",
    "        print(f\"{self.restaurant_name} serves {self.cuisine_type}\")\n",
    "    def open_restaurant(self):\n",
    "        print(f\"{self.restaurant_name} is now open\")\n",
    "    def set_number_served(self,number_served):\n",
    "        self.number_served=number_served\n",
    "    def increment_number_served(self,additional_served):\n",
    "        self.number_served+=additional_served\n",
    "\n",
    "\n",
    "\"\"\"write cubclass IceCreamStand\"\"\"\n",
    "\n",
    "class IceCreamStand(restaurant):\n",
    "    def __init__(self,restaurant_name,cuisine_type=\"ice_cream\"):\n",
    "        super().__init__(restaurant_name,cuisine_type)\n",
    "        self.flavors=[]\n",
    "    def show_flavors(self):\n",
    "        print(\"\\nWe have the following flavors available:\")\n",
    "        for flavor in self.flavors:\n",
    "            print(\"-\" + flavor.title())\n",
    "\n",
    "wow_rest = IceCreamStand('Wow restaurant')\n",
    "wow_rest.flavors = ['vanilla', 'chocolate', 'black cherry']\n",
    "\n",
    "wow_rest.describe_restaurant()\n",
    "wow_rest.show_flavors()\n"
   ]
  },
  {
   "cell_type": "code",
   "execution_count": 112,
   "metadata": {},
   "outputs": [
    {
     "name": "stdout",
     "output_type": "stream",
     "text": "Mojo and Japanese\nMoj and Korean\nMo and Chinese\n"
    }
   ],
   "source": [
    "mojo=Restaurant(\"Mojo\",\"Japanese\")\n",
    "mojo2=Restaurant(\"Moj\",\"Korean\")\n",
    "mojo3=Restaurant(\"Mo\",\"Chinese\")\n",
    "\n",
    "print(f\"{mojo.restaurant_name} and {mojo.cuisine_type}\")\n",
    "print(f\"{mojo2.restaurant_name} and {mojo2.cuisine_type}\")\n",
    "print(f\"{mojo3.restaurant_name} and {mojo3.cuisine_type}\")"
   ]
  },
  {
   "cell_type": "code",
   "execution_count": 124,
   "metadata": {},
   "outputs": [],
   "source": [
    "class User:\n",
    "    def __init__(self,first_name,last_name):\n",
    "        self.first_name=first_name\n",
    "        self.last_name=last_name\n",
    "\n",
    "    def describe_user(self):\n",
    "        print(f\"Short info: {self.first_name} {self.last_name} \")\n",
    "    def greet_user(self):\n",
    "        print(f\"Our greetings to {self.first_name}\")"
   ]
  },
  {
   "cell_type": "code",
   "execution_count": 143,
   "metadata": {},
   "outputs": [],
   "source": [
    "class User():\n",
    "    \"\"\"Represent a simple user profile.\"\"\"\n",
    "\n",
    "    def __init__(self, first_name, last_name, username, email, location):\n",
    "        \"\"\"Initialize the user.\"\"\"\n",
    "        self.first_name = first_name.title()\n",
    "        self.last_name = last_name.title()\n",
    "        self.username = username\n",
    "        self.email = email\n",
    "        self.location = location.title()\n",
    "        self.login_attempts = 0\n",
    "\n",
    "    def describe_user(self):\n",
    "        \"\"\"Display a summary of the user's information.\"\"\"\n",
    "        print(\"\\n\" + self.first_name + \" \" + self.last_name)\n",
    "        print(\"  Username: \" + self.username)\n",
    "        print(\"  Email: \" + self.email)\n",
    "        print(\"  Location: \" + self.location)\n",
    "\n",
    "    def greet_user(self):\n",
    "        \"\"\"Display a personalized greeting to the user.\"\"\"\n",
    "        print(\"\\nWelcome back, \" + self.username + \"!\")\n",
    "\n",
    "    def increment_login_attempts(self):\n",
    "        \"\"\"Increment the value of login_attempts.\"\"\"\n",
    "        self.login_attempts += 1\n",
    "\n",
    "    def reset_login_attempts(self):\n",
    "        \"\"\"Reset login_attempts to 0.\"\"\"\n",
    "        self.login_attempts = 0\n",
    "\n",
    "\n",
    "class Admin(User):\n",
    "    \"\"\"A user with administrative privileges.\"\"\"\n",
    "\n",
    "    def __init__(self, first_name, last_name, username, email, location):\n",
    "        \"\"\"Initialize the admin.\"\"\"\n",
    "        super().__init__(first_name, last_name, username, email, location)\n",
    "\n",
    "        # Initialize an empty set of privileges.\n",
    "        self.privileges = Privileges()\n",
    "class Priveleges():\n",
    "\n",
    "    def __init__(self, priveleges=[]):\n",
    "        self.priveleges = priveleges\n",
    "    def show_priveleges(self):\n",
    "        print(\"\\nPriveleges: \")\n",
    "        if self.priveleges:\n",
    "            for privelege in self.priveleges:\n",
    "                print(\"-\" + privelege)\n",
    "        else:\n",
    "            print(\"- This user has no privelege\")\n"
   ]
  },
  {
   "cell_type": "code",
   "execution_count": 146,
   "metadata": {},
   "outputs": [
    {
     "name": "stdout",
     "output_type": "stream",
     "text": "5\n"
    }
   ],
   "source": [
    "from random import choice\n",
    "\n",
    "rand=[1,2,3,4,4,5]\n",
    "\n",
    "print(choice(rand))"
   ]
  },
  {
   "cell_type": "code",
   "execution_count": 159,
   "metadata": {},
   "outputs": [],
   "source": [
    "class die:\n",
    "    def __init__(self,sides=6):\n",
    "        self.sides=sides\n",
    "    \n",
    "    def roll_die(self):\n",
    "        return randint(1,self.sides)\n",
    "\n",
    "\n",
    "\n",
    "\n",
    "\n"
   ]
  },
  {
   "cell_type": "code",
   "execution_count": 161,
   "metadata": {},
   "outputs": [
    {
     "ename": "NameError",
     "evalue": "name 'roll_die' is not defined",
     "output_type": "error",
     "traceback": [
      "\u001b[0;31m---------------------------------------------------------------------------\u001b[0m",
      "\u001b[0;31mNameError\u001b[0m                                 Traceback (most recent call last)",
      "\u001b[0;32m<ipython-input-161-f39a1bb3fa8e>\u001b[0m in \u001b[0;36m<module>\u001b[0;34m\u001b[0m\n\u001b[0;32m----> 1\u001b[0;31m \u001b[0mroll_die\u001b[0m\u001b[0;34m(\u001b[0m\u001b[0;34m)\u001b[0m\u001b[0;34m\u001b[0m\u001b[0;34m\u001b[0m\u001b[0m\n\u001b[0m",
      "\u001b[0;31mNameError\u001b[0m: name 'roll_die' is not defined"
     ]
    }
   ],
   "source": [
    "roll_die()"
   ]
  },
  {
   "cell_type": "code",
   "execution_count": 163,
   "metadata": {},
   "outputs": [
    {
     "ename": "NameError",
     "evalue": "name 'roll_die' is not defined",
     "output_type": "error",
     "traceback": [
      "\u001b[0;31m---------------------------------------------------------------------------\u001b[0m",
      "\u001b[0;31mNameError\u001b[0m                                 Traceback (most recent call last)",
      "\u001b[0;32m<ipython-input-163-f39a1bb3fa8e>\u001b[0m in \u001b[0;36m<module>\u001b[0;34m\u001b[0m\n\u001b[0;32m----> 1\u001b[0;31m \u001b[0mroll_die\u001b[0m\u001b[0;34m(\u001b[0m\u001b[0;34m)\u001b[0m\u001b[0;34m\u001b[0m\u001b[0;34m\u001b[0m\u001b[0m\n\u001b[0m",
      "\u001b[0;31mNameError\u001b[0m: name 'roll_die' is not defined"
     ]
    }
   ],
   "source": [
    "roll_die()"
   ]
  },
  {
   "cell_type": "code",
   "execution_count": 164,
   "metadata": {},
   "outputs": [],
   "source": [
    "from random import randint\n",
    "\n",
    "class Die():\n",
    "    \"\"\"Represent a die, which can be rolled.\"\"\"\n",
    "\n",
    "    def __init__(self, sides=6):\n",
    "        \"\"\"Initialize the die.\"\"\"\n",
    "        self.sides = sides\n",
    "\n",
    "    def roll_die(self):\n",
    "        \"\"\"Return a number between 1 and the number of sides.\"\"\"\n",
    "        return randint(1, self.sides)"
   ]
  },
  {
   "cell_type": "code",
   "execution_count": 167,
   "metadata": {},
   "outputs": [
    {
     "name": "stdout",
     "output_type": "stream",
     "text": "10 rolls of a 6-sided die:\n[1, 2, 2, 6, 6, 5, 2, 3, 2, 3]\n"
    }
   ],
   "source": [
    "d6 = Die()\n",
    "\n",
    "results = []\n",
    "for roll_num in range(10):\n",
    "    result = d6.roll_die()\n",
    "    results.append(result)\n",
    "print(\"10 rolls of a 6-sided die:\")\n",
    "print(results)"
   ]
  },
  {
   "cell_type": "code",
   "execution_count": 26,
   "metadata": {},
   "outputs": [],
   "source": [
    "check={\n",
    "\n",
    "    \"Personal\":\"bigbaw-busguh-5jEqse\",\n",
    "    \"Finance\":\"fimfoj-syqmu0-byKpuw\",\n",
    "    \"Programming\":\"janput-myzqyk-2gUxpe\",\n",
    "    \"Other Sites\":\"camqeg-9zagko-woddoW\",\n",
    "    }\n",
    "\n",
    "\"\"\"To break a loop\"\"\"\n",
    "def cont():\n",
    "    cont=input(\"Do you want to continue? [yes/no]\")\n",
    "    while True:\n",
    "        if cont!=\"yes\":\n",
    "           cont_code=False\n",
    "        else:\n",
    "            check_pass()\n",
    "\n",
    "\"\"\"ask you enter type of password to check\"\"\"\n",
    "def check_pass(run_code=True,cont_code=True):\n",
    "    while run_code:\n",
    "        type_pass=input(\"Enter what I should check?\")\n",
    "        if type_pass.title()==\"Personal\":\n",
    "            while cont_code:\n",
    "                if check[\"Personal\"]==input(\"Enter password: \"):\n",
    "                    print(\"Valid\")\n",
    "                    cont()\n",
    "                else:\n",
    "                    print(\"\\nTry one more time. Enter type right.\")\n",
    "                    check_pass()\n",
    "        if type_pass.title()==\"Finance\":\n",
    "            while cont_code:\n",
    "                if check[\"Finance\"]==input(\"Enter password: \"):\n",
    "                    print(\"Valid\")\n",
    "                    cont()\n",
    "                else:\n",
    "                    print(\"\\nTry one more time. Enter type right.\")\n",
    "                    check_pass()\n",
    "        if type_pass.title()==\"Programming\":\n",
    "            while cont_code:\n",
    "                if check[\"Programming\"]==input(\"Enter password: \"):\n",
    "                    print(\"Valid\")\n",
    "                    cont()\n",
    "                else:\n",
    "                    print(\"\\nTry one more time. Enter type right.\")\n",
    "                    check_pass()\n",
    "        if type_pass.title()==\"Other\":\n",
    "            while cont_code:\n",
    "                if check[\"Other Sites\"]==input(\"Enter password: \"):\n",
    "                    print(\"Valid\")\n",
    "                    cont()\n",
    "                else:\n",
    "                    print(\"\\nTry one more time. Enter type right.\")\n",
    "                    check_pass()\n",
    "        \n",
    "        else:\n",
    "            print(\"Invalid input. Try again.\")\n",
    "            run_code=False"
   ]
  },
  {
   "cell_type": "code",
   "execution_count": 27,
   "metadata": {},
   "outputs": [
    {
     "name": "stdout",
     "output_type": "stream",
     "text": "Valid\nValid\n\nTry one more time. Enter type right.\nInvalid input. Try again.\n\nTry one more time. Enter type right.\nValid\nValid\n"
    },
    {
     "ename": "KeyboardInterrupt",
     "evalue": "",
     "output_type": "error",
     "traceback": [
      "\u001b[0;31m---------------------------------------------------------------------------\u001b[0m",
      "\u001b[0;31mKeyboardInterrupt\u001b[0m                         Traceback (most recent call last)",
      "\u001b[0;32m<ipython-input-27-5da3e90ac822>\u001b[0m in \u001b[0;36m<module>\u001b[0;34m\u001b[0m\n\u001b[0;32m----> 1\u001b[0;31m \u001b[0mcheck_pass\u001b[0m\u001b[0;34m(\u001b[0m\u001b[0;34m)\u001b[0m\u001b[0;34m\u001b[0m\u001b[0;34m\u001b[0m\u001b[0m\n\u001b[0m",
      "\u001b[0;32m<ipython-input-26-741c4683a758>\u001b[0m in \u001b[0;36mcheck_pass\u001b[0;34m(run_code, cont_code)\u001b[0m\n\u001b[1;32m     24\u001b[0m                 \u001b[0;32mif\u001b[0m \u001b[0mcheck\u001b[0m\u001b[0;34m[\u001b[0m\u001b[0;34m\"Personal\"\u001b[0m\u001b[0;34m]\u001b[0m\u001b[0;34m==\u001b[0m\u001b[0minput\u001b[0m\u001b[0;34m(\u001b[0m\u001b[0;34m\"Enter password: \"\u001b[0m\u001b[0;34m)\u001b[0m\u001b[0;34m:\u001b[0m\u001b[0;34m\u001b[0m\u001b[0;34m\u001b[0m\u001b[0m\n\u001b[1;32m     25\u001b[0m                     \u001b[0mprint\u001b[0m\u001b[0;34m(\u001b[0m\u001b[0;34m\"Valid\"\u001b[0m\u001b[0;34m)\u001b[0m\u001b[0;34m\u001b[0m\u001b[0;34m\u001b[0m\u001b[0m\n\u001b[0;32m---> 26\u001b[0;31m                     \u001b[0mcont\u001b[0m\u001b[0;34m(\u001b[0m\u001b[0;34m)\u001b[0m\u001b[0;34m\u001b[0m\u001b[0;34m\u001b[0m\u001b[0m\n\u001b[0m\u001b[1;32m     27\u001b[0m                 \u001b[0;32melse\u001b[0m\u001b[0;34m:\u001b[0m\u001b[0;34m\u001b[0m\u001b[0;34m\u001b[0m\u001b[0m\n\u001b[1;32m     28\u001b[0m                     \u001b[0mprint\u001b[0m\u001b[0;34m(\u001b[0m\u001b[0;34m\"\\nTry one more time. Enter type right.\"\u001b[0m\u001b[0;34m)\u001b[0m\u001b[0;34m\u001b[0m\u001b[0;34m\u001b[0m\u001b[0m\n",
      "\u001b[0;32m<ipython-input-26-741c4683a758>\u001b[0m in \u001b[0;36mcont\u001b[0;34m()\u001b[0m\n\u001b[1;32m     14\u001b[0m            \u001b[0mcont_code\u001b[0m\u001b[0;34m=\u001b[0m\u001b[0;32mFalse\u001b[0m\u001b[0;34m\u001b[0m\u001b[0;34m\u001b[0m\u001b[0m\n\u001b[1;32m     15\u001b[0m         \u001b[0;32melse\u001b[0m\u001b[0;34m:\u001b[0m\u001b[0;34m\u001b[0m\u001b[0;34m\u001b[0m\u001b[0m\n\u001b[0;32m---> 16\u001b[0;31m             \u001b[0mcheck_pass\u001b[0m\u001b[0;34m(\u001b[0m\u001b[0;34m)\u001b[0m\u001b[0;34m\u001b[0m\u001b[0;34m\u001b[0m\u001b[0m\n\u001b[0m\u001b[1;32m     17\u001b[0m \u001b[0;34m\u001b[0m\u001b[0m\n\u001b[1;32m     18\u001b[0m \u001b[0;34m\"\"\"ask you enter type of password to check\"\"\"\u001b[0m\u001b[0;34m\u001b[0m\u001b[0;34m\u001b[0m\u001b[0m\n",
      "\u001b[0;32m<ipython-input-26-741c4683a758>\u001b[0m in \u001b[0;36mcheck_pass\u001b[0;34m(run_code, cont_code)\u001b[0m\n\u001b[1;32m     32\u001b[0m                 \u001b[0;32mif\u001b[0m \u001b[0mcheck\u001b[0m\u001b[0;34m[\u001b[0m\u001b[0;34m\"Finance\"\u001b[0m\u001b[0;34m]\u001b[0m\u001b[0;34m==\u001b[0m\u001b[0minput\u001b[0m\u001b[0;34m(\u001b[0m\u001b[0;34m\"Enter password: \"\u001b[0m\u001b[0;34m)\u001b[0m\u001b[0;34m:\u001b[0m\u001b[0;34m\u001b[0m\u001b[0;34m\u001b[0m\u001b[0m\n\u001b[1;32m     33\u001b[0m                     \u001b[0mprint\u001b[0m\u001b[0;34m(\u001b[0m\u001b[0;34m\"Valid\"\u001b[0m\u001b[0;34m)\u001b[0m\u001b[0;34m\u001b[0m\u001b[0;34m\u001b[0m\u001b[0m\n\u001b[0;32m---> 34\u001b[0;31m                     \u001b[0mcont\u001b[0m\u001b[0;34m(\u001b[0m\u001b[0;34m)\u001b[0m\u001b[0;34m\u001b[0m\u001b[0;34m\u001b[0m\u001b[0m\n\u001b[0m\u001b[1;32m     35\u001b[0m                 \u001b[0;32melse\u001b[0m\u001b[0;34m:\u001b[0m\u001b[0;34m\u001b[0m\u001b[0;34m\u001b[0m\u001b[0m\n\u001b[1;32m     36\u001b[0m                     \u001b[0mprint\u001b[0m\u001b[0;34m(\u001b[0m\u001b[0;34m\"\\nTry one more time. Enter type right.\"\u001b[0m\u001b[0;34m)\u001b[0m\u001b[0;34m\u001b[0m\u001b[0;34m\u001b[0m\u001b[0m\n",
      "\u001b[0;32m<ipython-input-26-741c4683a758>\u001b[0m in \u001b[0;36mcont\u001b[0;34m()\u001b[0m\n\u001b[1;32m     14\u001b[0m            \u001b[0mcont_code\u001b[0m\u001b[0;34m=\u001b[0m\u001b[0;32mFalse\u001b[0m\u001b[0;34m\u001b[0m\u001b[0;34m\u001b[0m\u001b[0m\n\u001b[1;32m     15\u001b[0m         \u001b[0;32melse\u001b[0m\u001b[0;34m:\u001b[0m\u001b[0;34m\u001b[0m\u001b[0;34m\u001b[0m\u001b[0m\n\u001b[0;32m---> 16\u001b[0;31m             \u001b[0mcheck_pass\u001b[0m\u001b[0;34m(\u001b[0m\u001b[0;34m)\u001b[0m\u001b[0;34m\u001b[0m\u001b[0;34m\u001b[0m\u001b[0m\n\u001b[0m\u001b[1;32m     17\u001b[0m \u001b[0;34m\u001b[0m\u001b[0m\n\u001b[1;32m     18\u001b[0m \u001b[0;34m\"\"\"ask you enter type of password to check\"\"\"\u001b[0m\u001b[0;34m\u001b[0m\u001b[0;34m\u001b[0m\u001b[0m\n",
      "\u001b[0;32m<ipython-input-26-741c4683a758>\u001b[0m in \u001b[0;36mcheck_pass\u001b[0;34m(run_code, cont_code)\u001b[0m\n\u001b[1;32m     43\u001b[0m                 \u001b[0;32melse\u001b[0m\u001b[0;34m:\u001b[0m\u001b[0;34m\u001b[0m\u001b[0;34m\u001b[0m\u001b[0m\n\u001b[1;32m     44\u001b[0m                     \u001b[0mprint\u001b[0m\u001b[0;34m(\u001b[0m\u001b[0;34m\"\\nTry one more time. Enter type right.\"\u001b[0m\u001b[0;34m)\u001b[0m\u001b[0;34m\u001b[0m\u001b[0;34m\u001b[0m\u001b[0m\n\u001b[0;32m---> 45\u001b[0;31m                     \u001b[0mcheck_pass\u001b[0m\u001b[0;34m(\u001b[0m\u001b[0;34m)\u001b[0m\u001b[0;34m\u001b[0m\u001b[0;34m\u001b[0m\u001b[0m\n\u001b[0m\u001b[1;32m     46\u001b[0m         \u001b[0;32mif\u001b[0m \u001b[0mtype_pass\u001b[0m\u001b[0;34m.\u001b[0m\u001b[0mtitle\u001b[0m\u001b[0;34m(\u001b[0m\u001b[0;34m)\u001b[0m\u001b[0;34m==\u001b[0m\u001b[0;34m\"Other\"\u001b[0m\u001b[0;34m:\u001b[0m\u001b[0;34m\u001b[0m\u001b[0;34m\u001b[0m\u001b[0m\n\u001b[1;32m     47\u001b[0m             \u001b[0;32mwhile\u001b[0m \u001b[0mcont_code\u001b[0m\u001b[0;34m:\u001b[0m\u001b[0;34m\u001b[0m\u001b[0;34m\u001b[0m\u001b[0m\n",
      "\u001b[0;32m<ipython-input-26-741c4683a758>\u001b[0m in \u001b[0;36mcheck_pass\u001b[0;34m(run_code, cont_code)\u001b[0m\n\u001b[1;32m     40\u001b[0m                 \u001b[0;32mif\u001b[0m \u001b[0mcheck\u001b[0m\u001b[0;34m[\u001b[0m\u001b[0;34m\"Programming\"\u001b[0m\u001b[0;34m]\u001b[0m\u001b[0;34m==\u001b[0m\u001b[0minput\u001b[0m\u001b[0;34m(\u001b[0m\u001b[0;34m\"Enter password: \"\u001b[0m\u001b[0;34m)\u001b[0m\u001b[0;34m:\u001b[0m\u001b[0;34m\u001b[0m\u001b[0;34m\u001b[0m\u001b[0m\n\u001b[1;32m     41\u001b[0m                     \u001b[0mprint\u001b[0m\u001b[0;34m(\u001b[0m\u001b[0;34m\"Valid\"\u001b[0m\u001b[0;34m)\u001b[0m\u001b[0;34m\u001b[0m\u001b[0;34m\u001b[0m\u001b[0m\n\u001b[0;32m---> 42\u001b[0;31m                     \u001b[0mcont\u001b[0m\u001b[0;34m(\u001b[0m\u001b[0;34m)\u001b[0m\u001b[0;34m\u001b[0m\u001b[0;34m\u001b[0m\u001b[0m\n\u001b[0m\u001b[1;32m     43\u001b[0m                 \u001b[0;32melse\u001b[0m\u001b[0;34m:\u001b[0m\u001b[0;34m\u001b[0m\u001b[0;34m\u001b[0m\u001b[0m\n\u001b[1;32m     44\u001b[0m                     \u001b[0mprint\u001b[0m\u001b[0;34m(\u001b[0m\u001b[0;34m\"\\nTry one more time. Enter type right.\"\u001b[0m\u001b[0;34m)\u001b[0m\u001b[0;34m\u001b[0m\u001b[0;34m\u001b[0m\u001b[0m\n",
      "\u001b[0;32m<ipython-input-26-741c4683a758>\u001b[0m in \u001b[0;36mcont\u001b[0;34m()\u001b[0m\n\u001b[1;32m     14\u001b[0m            \u001b[0mcont_code\u001b[0m\u001b[0;34m=\u001b[0m\u001b[0;32mFalse\u001b[0m\u001b[0;34m\u001b[0m\u001b[0;34m\u001b[0m\u001b[0m\n\u001b[1;32m     15\u001b[0m         \u001b[0;32melse\u001b[0m\u001b[0;34m:\u001b[0m\u001b[0;34m\u001b[0m\u001b[0;34m\u001b[0m\u001b[0m\n\u001b[0;32m---> 16\u001b[0;31m             \u001b[0mcheck_pass\u001b[0m\u001b[0;34m(\u001b[0m\u001b[0;34m)\u001b[0m\u001b[0;34m\u001b[0m\u001b[0;34m\u001b[0m\u001b[0m\n\u001b[0m\u001b[1;32m     17\u001b[0m \u001b[0;34m\u001b[0m\u001b[0m\n\u001b[1;32m     18\u001b[0m \u001b[0;34m\"\"\"ask you enter type of password to check\"\"\"\u001b[0m\u001b[0;34m\u001b[0m\u001b[0;34m\u001b[0m\u001b[0m\n",
      "\u001b[0;32m<ipython-input-26-741c4683a758>\u001b[0m in \u001b[0;36mcheck_pass\u001b[0;34m(run_code, cont_code)\u001b[0m\n\u001b[1;32m     48\u001b[0m                 \u001b[0;32mif\u001b[0m \u001b[0mcheck\u001b[0m\u001b[0;34m[\u001b[0m\u001b[0;34m\"Other Sites\"\u001b[0m\u001b[0;34m]\u001b[0m\u001b[0;34m==\u001b[0m\u001b[0minput\u001b[0m\u001b[0;34m(\u001b[0m\u001b[0;34m\"Enter password: \"\u001b[0m\u001b[0;34m)\u001b[0m\u001b[0;34m:\u001b[0m\u001b[0;34m\u001b[0m\u001b[0;34m\u001b[0m\u001b[0m\n\u001b[1;32m     49\u001b[0m                     \u001b[0mprint\u001b[0m\u001b[0;34m(\u001b[0m\u001b[0;34m\"Valid\"\u001b[0m\u001b[0;34m)\u001b[0m\u001b[0;34m\u001b[0m\u001b[0;34m\u001b[0m\u001b[0m\n\u001b[0;32m---> 50\u001b[0;31m                     \u001b[0mcont\u001b[0m\u001b[0;34m(\u001b[0m\u001b[0;34m)\u001b[0m\u001b[0;34m\u001b[0m\u001b[0;34m\u001b[0m\u001b[0m\n\u001b[0m\u001b[1;32m     51\u001b[0m                 \u001b[0;32melse\u001b[0m\u001b[0;34m:\u001b[0m\u001b[0;34m\u001b[0m\u001b[0;34m\u001b[0m\u001b[0m\n\u001b[1;32m     52\u001b[0m                     \u001b[0mprint\u001b[0m\u001b[0;34m(\u001b[0m\u001b[0;34m\"\\nTry one more time. Enter type right.\"\u001b[0m\u001b[0;34m)\u001b[0m\u001b[0;34m\u001b[0m\u001b[0;34m\u001b[0m\u001b[0m\n",
      "\u001b[0;32m<ipython-input-26-741c4683a758>\u001b[0m in \u001b[0;36mcont\u001b[0;34m()\u001b[0m\n\u001b[1;32m     11\u001b[0m     \u001b[0mcont\u001b[0m\u001b[0;34m=\u001b[0m\u001b[0minput\u001b[0m\u001b[0;34m(\u001b[0m\u001b[0;34m\"Do you want to continue? [yes/no]\"\u001b[0m\u001b[0;34m)\u001b[0m\u001b[0;34m\u001b[0m\u001b[0;34m\u001b[0m\u001b[0m\n\u001b[1;32m     12\u001b[0m     \u001b[0;32mwhile\u001b[0m \u001b[0;32mTrue\u001b[0m\u001b[0;34m:\u001b[0m\u001b[0;34m\u001b[0m\u001b[0;34m\u001b[0m\u001b[0m\n\u001b[0;32m---> 13\u001b[0;31m         \u001b[0;32mif\u001b[0m \u001b[0mcont\u001b[0m\u001b[0;34m!=\u001b[0m\u001b[0;34m\"yes\"\u001b[0m\u001b[0;34m:\u001b[0m\u001b[0;34m\u001b[0m\u001b[0;34m\u001b[0m\u001b[0m\n\u001b[0m\u001b[1;32m     14\u001b[0m            \u001b[0mcont_code\u001b[0m\u001b[0;34m=\u001b[0m\u001b[0;32mFalse\u001b[0m\u001b[0;34m\u001b[0m\u001b[0;34m\u001b[0m\u001b[0m\n\u001b[1;32m     15\u001b[0m         \u001b[0;32melse\u001b[0m\u001b[0;34m:\u001b[0m\u001b[0;34m\u001b[0m\u001b[0;34m\u001b[0m\u001b[0m\n",
      "\u001b[0;31mKeyboardInterrupt\u001b[0m: "
     ]
    }
   ],
   "source": [
    "check_pass()"
   ]
  },
  {
   "cell_type": "code",
   "execution_count": 2,
   "metadata": {},
   "outputs": [
    {
     "data": {
      "text/plain": "{'name': 'Alex lyan', 'email': '@mail.com'}"
     },
     "execution_count": 2,
     "metadata": {},
     "output_type": "execute_result"
    }
   ],
   "source": [
    "class User:\n",
    "    def __init__(self,user_name,mail_user):\n",
    "        self.user_name=user_name\n",
    "        self.mail_user=mail_user\n",
    "    \n",
    "    def get_email_data(self):\n",
    "        return {\n",
    "            \"name\":self.user_name,\n",
    "            \"email\":self.mail_user,\n",
    "        }\n",
    "alex=User(\"Alex lyan\",\"@mail.com\")\n",
    "alex.get_email_data()"
   ]
  },
  {
   "cell_type": "code",
   "execution_count": 11,
   "metadata": {},
   "outputs": [],
   "source": [
    "class SquareIterator:\n",
    "    def __init__(self,current,end):\n",
    "        self.current=current\n",
    "        self.end=end\n",
    "\n",
    "    def __iter__(self):\n",
    "        return self\n",
    "    def __next__(self):\n",
    "        if self.current>=self.end:\n",
    "            raise StopIteration\n",
    "        \n",
    "        result=self.current**2\n",
    "        self.current+=1\n",
    "        return result"
   ]
  },
  {
   "cell_type": "code",
   "execution_count": 12,
   "metadata": {},
   "outputs": [
    {
     "name": "stdout",
     "output_type": "stream",
     "text": "1\n4\n9\n16\n25\n36\n49\n64\n"
    }
   ],
   "source": [
    "\n",
    "for num in SquareIterator(1,9):\n",
    "    print(num)"
   ]
  },
  {
   "cell_type": "code",
   "execution_count": 25,
   "metadata": {},
   "outputs": [
    {
     "name": "stdout",
     "output_type": "stream",
     "text": "Current: 1.001140832901001\nElapsed: 2.0046141147613525\n"
    }
   ],
   "source": [
    "import time\n",
    "\n",
    "class Timer:\n",
    "    def __init__(self):\n",
    "        self.start=time.time()\n",
    "    def current_time(self):\n",
    "        return time.time()-self.start\n",
    "    def __enter__(self):\n",
    "        return self\n",
    "    def __exit__(self,*args):\n",
    "        print(\"Elapsed: {}\".format(self.current_time()))\n",
    "\n",
    "with Timer() as t:\n",
    "    time.sleep(1)\n",
    "    print(\"Current: {}\".format(t.current_time()))\n",
    "    time.sleep(1)"
   ]
  },
  {
   "cell_type": "code",
   "execution_count": 37,
   "metadata": {},
   "outputs": [
    {
     "name": "stdout",
     "output_type": "stream",
     "text": "$339.86\n"
    }
   ],
   "source": [
    "import requests\n",
    "from bs4 import BeautifulSoup\n",
    "import smtplib\n",
    "import time\n",
    "\n",
    "\n",
    "url = \"https://www.amazon.com/Garmin-Fenix-Slate-Gray-Black/dp/B01N7J9APR\"\n",
    "\n",
    "headers = {\n",
    "    \"User_Agent\": \"Mozilla/5.0 (Macintosh; Intel Mac OS X 10_15_3) AppleWebKit/537.36 (KHTML, like Gecko) Chrome/79.0.3945.130 Safari/537.36\" }\n",
    "\n",
    "\n",
    "page = requests.get(url, headers=headers)\n",
    "\n",
    "soup = BeautifulSoup(page.content, \"html.parser\")\n",
    "\n",
    "title = soup.find(id=\"productTitle\").get_text()\n",
    "price = soup.find(id=\"priceblock_ourprice\").get_text()\n",
    "\n",
    "print(price)"
   ]
  },
  {
   "cell_type": "code",
   "execution_count": null,
   "metadata": {},
   "outputs": [],
   "source": []
  }
 ],
 "metadata": {
  "kernelspec": {
   "display_name": "Python 3.8.0 64-bit",
   "language": "python",
   "name": "python38064bita3e2b9284fe241009277b40c2dcf841c"
  },
  "language_info": {
   "codemirror_mode": {
    "name": "ipython",
    "version": 3
   },
   "file_extension": ".py",
   "mimetype": "text/x-python",
   "name": "python",
   "nbconvert_exporter": "python",
   "pygments_lexer": "ipython3",
   "version": "3.8.0-final"
  }
 },
 "nbformat": 4,
 "nbformat_minor": 2
}